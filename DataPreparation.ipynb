{
 "cells": [
  {
   "cell_type": "markdown",
   "id": "3da84f39-9082-47f2-a1ab-4fc38f3bc144",
   "metadata": {},
   "source": [
    "## Файл с предобработкой данных  \n",
    "На вход мы подаем наш датасет, а на выходе получаем отчищенный от случайных, неинформативных символов, лемматизированный, векторизованный по методу TF-IDF на униграммы\\биграммы\\триграммы и разбитый на тренировочную и тестовую выборки."
   ]
  },
  {
   "cell_type": "code",
   "execution_count": 1,
   "id": "611077e0-90b1-4862-ac28-f280c371ccec",
   "metadata": {},
   "outputs": [],
   "source": [
    "import pandas as pd\n",
    "import re\n",
    "import nltk\n",
    "from nltk.corpus import stopwords\n",
    "from nltk.stem import WordNetLemmatizer\n",
    "from nltk.corpus import wordnet\n",
    "from sklearn.model_selection import train_test_split\n",
    "from sklearn.feature_extraction.text import TfidfVectorizer\n",
    "import pickle"
   ]
  },
  {
   "cell_type": "code",
   "execution_count": 2,
   "id": "4e22aac3-003c-4e2f-9d23-0d7c3116b73d",
   "metadata": {},
   "outputs": [],
   "source": [
    "data = pd.read_csv('./IMDB Dataset.csv')\n",
    "\n",
    "# Лемматизация текста\n",
    "def lemmatize_text(text):\n",
    "    return ' '.join([lemmatizer.lemmatize(word) for word in text.split()])\n",
    "\n",
    "def clean_text(\n",
    "        text : str\n",
    ")->str:\n",
    "    \"\"\"\n",
    "    Очищает текст от HTML тегов, специальных символов и приводит его к нижнему регистру.\n",
    "    Параметры:\n",
    "    text (str): Исходный текст.\n",
    "    Возвращает:\n",
    "    str: Очищенный текст.\n",
    "    \"\"\"\n",
    "    text = text.lower()\n",
    "    text = re.sub(r'<.*?>', '', text)\n",
    "    text = re.sub(r'[^A-Za-z0-9\\s]', '', text)\n",
    "    text = re.sub(r'(.)\\1{2,}', r'\\1', text)\n",
    "    text = ' '.join([word for word in text.split() if word not in stop_words])\n",
    "    text = lemmatize_text(text)\n",
    "    return text"
   ]
  },
  {
   "cell_type": "code",
   "execution_count": 3,
   "id": "03aba8aa-d581-4a34-9f85-a5f8b8f68882",
   "metadata": {},
   "outputs": [
    {
     "name": "stderr",
     "output_type": "stream",
     "text": [
      "[nltk_data] Downloading package stopwords to\n",
      "[nltk_data]     C:\\Users\\andre\\AppData\\Roaming\\nltk_data...\n",
      "[nltk_data]   Package stopwords is already up-to-date!\n",
      "[nltk_data] Downloading package wordnet to\n",
      "[nltk_data]     C:\\Users\\andre\\AppData\\Roaming\\nltk_data...\n",
      "[nltk_data]   Package wordnet is already up-to-date!\n"
     ]
    }
   ],
   "source": [
    "# Загрузка стоп-слов\n",
    "nltk.download('stopwords')\n",
    "nltk.download('wordnet')\n",
    "stop_words = set(stopwords.words('english'))\n",
    "lemmatizer = WordNetLemmatizer()"
   ]
  },
  {
   "cell_type": "markdown",
   "id": "1d4dd3da-250b-4702-87e0-2386438f510e",
   "metadata": {},
   "source": [
    "### Текст до отчистки"
   ]
  },
  {
   "cell_type": "code",
   "execution_count": 4,
   "id": "92210d19-80ac-4ecb-9071-24668a8c5c46",
   "metadata": {},
   "outputs": [
    {
     "name": "stdout",
     "output_type": "stream",
     "text": [
      "This show was an amazing, fresh & innovative idea in the 70's when it first aired. The first 7 or 8 years were brilliant, but things dropped off after that. By 1990, the show was not really funny anymore, and it's continued its decline further to the complete waste of time it is today.<br /><br />It's truly disgraceful how far this show has fallen. The writing is painfully bad, the performances are almost as bad - if not for the mildly entertaining respite of the guest-hosts, this show probably wouldn't still be on the air. I find it so hard to believe that the same creator that hand-selected the original cast also chose the band of hacks that followed. How can one recognize such brilliance and then see fit to replace it with such mediocrity? I felt I must give 2 stars out of respect for the original cast that made this show such a huge success. As it is now, the show is just awful. I can't believe it's still on the air.\n"
     ]
    }
   ],
   "source": [
    "print(data.iloc[7,0])"
   ]
  },
  {
   "cell_type": "code",
   "execution_count": 6,
   "id": "d7ed9202-500f-4b03-8442-cfbddc777f2a",
   "metadata": {},
   "outputs": [
    {
     "name": "stdout",
     "output_type": "stream",
     "text": [
      "So im not a big fan of Boll's work but then again not many are. I enjoyed his movie Postal (maybe im the only one). Boll apparently bought the rights to use Far Cry long ago even before the game itself was even finsished. <br /><br />People who have enjoyed killing mercs and infiltrating secret research labs located on a tropical island should be warned, that this is not Far Cry... This is something Mr Boll have schemed together along with his legion of schmucks.. Feeling loneley on the set Mr Boll invites three of his countrymen to play with. These players go by the names of Til Schweiger, Udo Kier and Ralf Moeller.<br /><br />Three names that actually have made them selfs pretty big in the movie biz. So the tale goes like this, Jack Carver played by Til Schweiger (yes Carver is German all hail the bratwurst eating dudes!!) However I find that Tils acting in this movie is pretty badass.. People have complained about how he's not really staying true to the whole Carver agenda but we only saw carver in a first person perspective so we don't really know what he looked like when he was kicking a**.. <br /><br />However, the storyline in this film is beyond demented. We see the evil mad scientist Dr. Krieger played by Udo Kier, making Genetically-Mutated-soldiers or GMS as they are called. Performing his top-secret research on an island that reminds me of \"SPOILER\" Vancouver for some reason. Thats right no palm trees here. Instead we got some nice rich lumberjack-woods. We haven't even gone FAR before I started to CRY (mehehe) I cannot go on any more.. If you wanna stay true to Bolls shenanigans then go and see this movie you will not be disappointed it delivers the true Boll experience, meaning most of it will suck.<br /><br />There are some things worth mentioning that would imply that Boll did a good work on some areas of the film such as some nice boat and fighting scenes. Until the whole cromed/albino GMS squad enters the scene and everything just makes me laugh.. The movie Far Cry reeks of scheisse (that's poop for you simpletons) from a fa,r if you wanna take a wiff go ahead.. BTW Carver gets a very annoying sidekick who makes you wanna shoot him the first three minutes he's on screen.\n"
     ]
    }
   ],
   "source": [
    "print(data.iloc[12,0])"
   ]
  },
  {
   "cell_type": "markdown",
   "id": "461ef60f-7024-4796-b797-3fda841c805d",
   "metadata": {},
   "source": [
    "### Текст после отчистки"
   ]
  },
  {
   "cell_type": "code",
   "execution_count": 7,
   "id": "095a7ae2-9720-4132-8a80-068fa53ca88a",
   "metadata": {},
   "outputs": [
    {
     "name": "stdout",
     "output_type": "stream",
     "text": [
      "show amazing fresh innovative idea 70 first aired first 7 8 year brilliant thing dropped 1990 show really funny anymore continued decline complete waste time todayits truly disgraceful far show fallen writing painfully bad performance almost bad mildly entertaining respite guesthosts show probably wouldnt still air find hard believe creator handselected original cast also chose band hack followed one recognize brilliance see fit replace mediocrity felt must give 2 star respect original cast made show huge success show awful cant believe still air\n"
     ]
    }
   ],
   "source": [
    "# Отчищаем данные и бинаризуем целевой параметр\n",
    "data[\"review\"] = data['review'].apply(clean_text)\n",
    "data['sentiment'] = data['sentiment'].apply(lambda x: 1 if x == 'positive' else 0)\n",
    "print(data.iloc[7,0])"
   ]
  },
  {
   "cell_type": "code",
   "execution_count": 8,
   "id": "aa73dd1e-26f5-4ace-a931-1d7e9ada10e0",
   "metadata": {},
   "outputs": [
    {
     "name": "stdout",
     "output_type": "stream",
     "text": [
      "im big fan boll work many enjoyed movie postal maybe im one boll apparently bought right use far cry long ago even game even finsished people enjoyed killing mercs infiltrating secret research lab located tropical island warned far cry something mr boll schemed together along legion schmuck feeling loneley set mr boll invite three countryman play player go name til schweiger udo kier ralf moellerthree name actually made self pretty big movie biz tale go like jack carver played til schweiger yes carver german hail bratwurst eating dude however find tils acting movie pretty badass people complained he really staying true whole carver agenda saw carver first person perspective dont really know looked like kicking however storyline film beyond demented see evil mad scientist dr krieger played udo kier making geneticallymutatedsoldiers gm called performing topsecret research island reminds spoiler vancouver reason thats right palm tree instead got nice rich lumberjackwoods havent even gone far started cry mehehe cannot go wanna stay true boll shenanigan go see movie disappointed delivers true boll experience meaning suckthere thing worth mentioning would imply boll good work area film nice boat fighting scene whole cromedalbino gm squad enters scene everything make laugh movie far cry reek scheisse thats poop simpleton far wanna take wiff go ahead btw carver get annoying sidekick make wanna shoot first three minute he screen\n"
     ]
    }
   ],
   "source": [
    "print(data.iloc[12,0])"
   ]
  },
  {
   "cell_type": "code",
   "execution_count": 17,
   "id": "2a1b9c35-2125-447a-9a8c-222ad96ba709",
   "metadata": {},
   "outputs": [],
   "source": [
    "X_train, X_test, y_train, y_test = train_test_split(data['review'], data['sentiment'], test_size=0.2, random_state=42)\n",
    "\n",
    "# Разделяю текст на униграммы\\биграммы\n",
    "tfidf = TfidfVectorizer(ngram_range=(1,3),max_features=8000)\n",
    "X_train_tfidf = tfidf.fit_transform(X_train).toarray()\n",
    "X_test_tfidf = tfidf.transform(X_test).toarray()\n",
    "\n",
    "train_data = {\n",
    "    'features': X_train_tfidf,\n",
    "    'labels': y_train\n",
    "}\n",
    "\n",
    "test_data = {\n",
    "    'features': X_test_tfidf,\n",
    "    'labels': y_test\n",
    "}\n",
    "\n",
    "# Сохранение тренировочных данных в pickle\n",
    "with open('./files/train_data.pkl', 'wb') as f:\n",
    "    pickle.dump(train_data, f)\n",
    "\n",
    "# Сохранение тестовых данных в pickle\n",
    "with open('./files/test_data.pkl', 'wb') as f:\n",
    "    pickle.dump(test_data, f)\n",
    "\n",
    "# Сохранение отчищенного текста в pickle\n",
    "with open('./files/Cleaned_Data.pkl', 'wb') as f:\n",
    "    pickle.dump(data, f)\n"
   ]
  }
 ],
 "metadata": {
  "kernelspec": {
   "display_name": "venv",
   "language": "python",
   "name": "venv"
  },
  "language_info": {
   "codemirror_mode": {
    "name": "ipython",
    "version": 3
   },
   "file_extension": ".py",
   "mimetype": "text/x-python",
   "name": "python",
   "nbconvert_exporter": "python",
   "pygments_lexer": "ipython3",
   "version": "3.12.3"
  }
 },
 "nbformat": 4,
 "nbformat_minor": 5
}
