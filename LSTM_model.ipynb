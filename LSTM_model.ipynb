{
 "cells": [
  {
   "cell_type": "markdown",
   "id": "291e6e9b-a9e4-4d2a-8fff-d7f6535a1b68",
   "metadata": {},
   "source": [
    "## Файл с 3ю моделью  \n",
    "В данном файле представленна более сложная нейронная сеть вида LSTM и полученные в результате ее обучения метрики"
   ]
  },
  {
   "cell_type": "code",
<<<<<<< HEAD
   "execution_count": 1,
=======
   "execution_count": 2,
>>>>>>> 16e88c176077a81b1b6682387c9404c4ff95a3d5
   "id": "cb67c1b3-9e95-48d5-af44-19946066afb8",
   "metadata": {},
   "outputs": [],
   "source": [
    "from tensorflow.keras.preprocessing.text import Tokenizer\n",
    "from tensorflow.keras.preprocessing.sequence import pad_sequences\n",
    "from tensorflow.keras.models import Sequential\n",
    "from tensorflow.keras.layers import Embedding, LSTM, Dense\n",
    "from sklearn.model_selection import train_test_split\n",
    "import numpy as np\n",
    "from sklearn.metrics import accuracy_score, classification_report,f1_score,roc_curve,auc\n",
    "import matplotlib.pyplot as plt\n",
    "import pandas as pd\n",
    "import pickle"
   ]
  },
  {
   "cell_type": "code",
   "execution_count": 4,
   "id": "ca54739d-29a5-45ee-b620-20ad78948c1a",
   "metadata": {},
   "outputs": [],
   "source": [
    "data = pd.read_csv('./files/Cleaned_Data.csv')\n",
    "data = data.iloc[:,1:]\n",
    "\n",
    "tokenizer = Tokenizer(num_words=8000)\n",
    "tokenizer.fit_on_texts(data.review)\n",
    "sequences = tokenizer.texts_to_sequences(data.review)\n",
    "dat = pad_sequences(sequences, maxlen=150)\n",
    "\n",
    "X_train, X_test, y_train, y_test = train_test_split(dat, data['sentiment'], test_size=0.2, random_state=42)"
   ]
  },
  {
   "cell_type": "code",
   "execution_count": 5,
   "id": "fa93cd81-1e5d-4346-8c12-26a8e4521952",
   "metadata": {},
   "outputs": [
    {
     "name": "stderr",
     "output_type": "stream",
     "text": [
      "C:\\Users\\andre\\AppData\\Local\\Programs\\Python\\Python312\\Lib\\site-packages\\keras\\src\\layers\\core\\embedding.py:90: UserWarning: Argument `input_length` is deprecated. Just remove it.\n",
      "  warnings.warn(\n"
     ]
    },
    {
     "data": {
      "text/html": [
       "<pre style=\"white-space:pre;overflow-x:auto;line-height:normal;font-family:Menlo,'DejaVu Sans Mono',consolas,'Courier New',monospace\"><span style=\"font-weight: bold\">Model: \"sequential\"</span>\n",
       "</pre>\n"
      ],
      "text/plain": [
       "\u001b[1mModel: \"sequential\"\u001b[0m\n"
      ]
     },
     "metadata": {},
     "output_type": "display_data"
    },
    {
     "data": {
      "text/html": [
       "<pre style=\"white-space:pre;overflow-x:auto;line-height:normal;font-family:Menlo,'DejaVu Sans Mono',consolas,'Courier New',monospace\">┏━━━━━━━━━━━━━━━━━━━━━━━━━━━━━━━━━━━━━━┳━━━━━━━━━━━━━━━━━━━━━━━━━━━━━┳━━━━━━━━━━━━━━━━━┓\n",
       "┃<span style=\"font-weight: bold\"> Layer (type)                         </span>┃<span style=\"font-weight: bold\"> Output Shape                </span>┃<span style=\"font-weight: bold\">         Param # </span>┃\n",
       "┡━━━━━━━━━━━━━━━━━━━━━━━━━━━━━━━━━━━━━━╇━━━━━━━━━━━━━━━━━━━━━━━━━━━━━╇━━━━━━━━━━━━━━━━━┩\n",
       "│ embedding (<span style=\"color: #0087ff; text-decoration-color: #0087ff\">Embedding</span>)                │ ?                           │     <span style=\"color: #00af00; text-decoration-color: #00af00\">0</span> (unbuilt) │\n",
       "├──────────────────────────────────────┼─────────────────────────────┼─────────────────┤\n",
       "│ lstm (<span style=\"color: #0087ff; text-decoration-color: #0087ff\">LSTM</span>)                          │ ?                           │     <span style=\"color: #00af00; text-decoration-color: #00af00\">0</span> (unbuilt) │\n",
       "├──────────────────────────────────────┼─────────────────────────────┼─────────────────┤\n",
       "│ lstm_1 (<span style=\"color: #0087ff; text-decoration-color: #0087ff\">LSTM</span>)                        │ ?                           │     <span style=\"color: #00af00; text-decoration-color: #00af00\">0</span> (unbuilt) │\n",
       "├──────────────────────────────────────┼─────────────────────────────┼─────────────────┤\n",
       "│ dense (<span style=\"color: #0087ff; text-decoration-color: #0087ff\">Dense</span>)                        │ ?                           │     <span style=\"color: #00af00; text-decoration-color: #00af00\">0</span> (unbuilt) │\n",
       "└──────────────────────────────────────┴─────────────────────────────┴─────────────────┘\n",
       "</pre>\n"
      ],
      "text/plain": [
       "┏━━━━━━━━━━━━━━━━━━━━━━━━━━━━━━━━━━━━━━┳━━━━━━━━━━━━━━━━━━━━━━━━━━━━━┳━━━━━━━━━━━━━━━━━┓\n",
       "┃\u001b[1m \u001b[0m\u001b[1mLayer (type)                        \u001b[0m\u001b[1m \u001b[0m┃\u001b[1m \u001b[0m\u001b[1mOutput Shape               \u001b[0m\u001b[1m \u001b[0m┃\u001b[1m \u001b[0m\u001b[1m        Param #\u001b[0m\u001b[1m \u001b[0m┃\n",
       "┡━━━━━━━━━━━━━━━━━━━━━━━━━━━━━━━━━━━━━━╇━━━━━━━━━━━━━━━━━━━━━━━━━━━━━╇━━━━━━━━━━━━━━━━━┩\n",
       "│ embedding (\u001b[38;5;33mEmbedding\u001b[0m)                │ ?                           │     \u001b[38;5;34m0\u001b[0m (unbuilt) │\n",
       "├──────────────────────────────────────┼─────────────────────────────┼─────────────────┤\n",
       "│ lstm (\u001b[38;5;33mLSTM\u001b[0m)                          │ ?                           │     \u001b[38;5;34m0\u001b[0m (unbuilt) │\n",
       "├──────────────────────────────────────┼─────────────────────────────┼─────────────────┤\n",
       "│ lstm_1 (\u001b[38;5;33mLSTM\u001b[0m)                        │ ?                           │     \u001b[38;5;34m0\u001b[0m (unbuilt) │\n",
       "├──────────────────────────────────────┼─────────────────────────────┼─────────────────┤\n",
       "│ dense (\u001b[38;5;33mDense\u001b[0m)                        │ ?                           │     \u001b[38;5;34m0\u001b[0m (unbuilt) │\n",
       "└──────────────────────────────────────┴─────────────────────────────┴─────────────────┘\n"
      ]
     },
     "metadata": {},
     "output_type": "display_data"
    },
    {
     "data": {
      "text/html": [
       "<pre style=\"white-space:pre;overflow-x:auto;line-height:normal;font-family:Menlo,'DejaVu Sans Mono',consolas,'Courier New',monospace\"><span style=\"font-weight: bold\"> Total params: </span><span style=\"color: #00af00; text-decoration-color: #00af00\">0</span> (0.00 B)\n",
       "</pre>\n"
      ],
      "text/plain": [
       "\u001b[1m Total params: \u001b[0m\u001b[38;5;34m0\u001b[0m (0.00 B)\n"
      ]
     },
     "metadata": {},
     "output_type": "display_data"
    },
    {
     "data": {
      "text/html": [
       "<pre style=\"white-space:pre;overflow-x:auto;line-height:normal;font-family:Menlo,'DejaVu Sans Mono',consolas,'Courier New',monospace\"><span style=\"font-weight: bold\"> Trainable params: </span><span style=\"color: #00af00; text-decoration-color: #00af00\">0</span> (0.00 B)\n",
       "</pre>\n"
      ],
      "text/plain": [
       "\u001b[1m Trainable params: \u001b[0m\u001b[38;5;34m0\u001b[0m (0.00 B)\n"
      ]
     },
     "metadata": {},
     "output_type": "display_data"
    },
    {
     "data": {
      "text/html": [
       "<pre style=\"white-space:pre;overflow-x:auto;line-height:normal;font-family:Menlo,'DejaVu Sans Mono',consolas,'Courier New',monospace\"><span style=\"font-weight: bold\"> Non-trainable params: </span><span style=\"color: #00af00; text-decoration-color: #00af00\">0</span> (0.00 B)\n",
       "</pre>\n"
      ],
      "text/plain": [
       "\u001b[1m Non-trainable params: \u001b[0m\u001b[38;5;34m0\u001b[0m (0.00 B)\n"
      ]
     },
     "metadata": {},
     "output_type": "display_data"
    },
    {
     "name": "stdout",
     "output_type": "stream",
     "text": [
      "Epoch 1/10\n",
      "\u001b[1m1000/1000\u001b[0m \u001b[32m━━━━━━━━━━━━━━━━━━━━\u001b[0m\u001b[37m\u001b[0m \u001b[1m66s\u001b[0m 64ms/step - accuracy: 0.7851 - loss: 0.4425 - val_accuracy: 0.8749 - val_loss: 0.3018\n",
      "Epoch 2/10\n",
      "\u001b[1m1000/1000\u001b[0m \u001b[32m━━━━━━━━━━━━━━━━━━━━\u001b[0m\u001b[37m\u001b[0m \u001b[1m68s\u001b[0m 68ms/step - accuracy: 0.9121 - loss: 0.2309 - val_accuracy: 0.8704 - val_loss: 0.3154\n",
      "Epoch 3/10\n",
      "\u001b[1m1000/1000\u001b[0m \u001b[32m━━━━━━━━━━━━━━━━━━━━\u001b[0m\u001b[37m\u001b[0m \u001b[1m68s\u001b[0m 68ms/step - accuracy: 0.9405 - loss: 0.1618 - val_accuracy: 0.8754 - val_loss: 0.3075\n",
      "Epoch 4/10\n",
      "\u001b[1m1000/1000\u001b[0m \u001b[32m━━━━━━━━━━━━━━━━━━━━\u001b[0m\u001b[37m\u001b[0m \u001b[1m71s\u001b[0m 71ms/step - accuracy: 0.9583 - loss: 0.1212 - val_accuracy: 0.8580 - val_loss: 0.3842\n",
      "Epoch 5/10\n",
      "\u001b[1m1000/1000\u001b[0m \u001b[32m━━━━━━━━━━━━━━━━━━━━\u001b[0m\u001b[37m\u001b[0m \u001b[1m69s\u001b[0m 69ms/step - accuracy: 0.9716 - loss: 0.0894 - val_accuracy: 0.8698 - val_loss: 0.3980\n",
      "Epoch 6/10\n",
      "\u001b[1m1000/1000\u001b[0m \u001b[32m━━━━━━━━━━━━━━━━━━━━\u001b[0m\u001b[37m\u001b[0m \u001b[1m76s\u001b[0m 76ms/step - accuracy: 0.9803 - loss: 0.0619 - val_accuracy: 0.8704 - val_loss: 0.4498\n",
      "Epoch 7/10\n",
      "\u001b[1m1000/1000\u001b[0m \u001b[32m━━━━━━━━━━━━━━━━━━━━\u001b[0m\u001b[37m\u001b[0m \u001b[1m74s\u001b[0m 74ms/step - accuracy: 0.9866 - loss: 0.0468 - val_accuracy: 0.8658 - val_loss: 0.5109\n",
      "Epoch 8/10\n",
      "\u001b[1m1000/1000\u001b[0m \u001b[32m━━━━━━━━━━━━━━━━━━━━\u001b[0m\u001b[37m\u001b[0m \u001b[1m73s\u001b[0m 73ms/step - accuracy: 0.9865 - loss: 0.0459 - val_accuracy: 0.8695 - val_loss: 0.5839\n",
      "Epoch 9/10\n",
      "\u001b[1m1000/1000\u001b[0m \u001b[32m━━━━━━━━━━━━━━━━━━━━\u001b[0m\u001b[37m\u001b[0m \u001b[1m89s\u001b[0m 89ms/step - accuracy: 0.9913 - loss: 0.0292 - val_accuracy: 0.8695 - val_loss: 0.6166\n",
      "Epoch 10/10\n",
      "\u001b[1m1000/1000\u001b[0m \u001b[32m━━━━━━━━━━━━━━━━━━━━\u001b[0m\u001b[37m\u001b[0m \u001b[1m69s\u001b[0m 69ms/step - accuracy: 0.9895 - loss: 0.0324 - val_accuracy: 0.8652 - val_loss: 0.6269\n"
     ]
    },
    {
     "data": {
      "text/plain": [
       "<keras.src.callbacks.history.History at 0x1b8021e3fb0>"
      ]
     },
     "execution_count": 5,
     "metadata": {},
     "output_type": "execute_result"
    }
   ],
   "source": [
    "# Пример LSTM модели\n",
    "model = Sequential()\n",
    "model.add(Embedding(input_dim=8000, output_dim=100, input_length=150))\n",
    "model.add(LSTM(100, return_sequences = True))\n",
    "model.add(LSTM(50))\n",
    "model.add(Dense(1, activation='sigmoid'))\n",
    "\n",
    "model.compile(optimizer='adam', loss='binary_crossentropy', metrics=['accuracy'])\n",
    "model.summary()\n",
    "\n",
    "model.fit(X_train, y_train, epochs=10, batch_size=32, validation_split=0.2)"
   ]
  },
  {
   "cell_type": "code",
   "execution_count": 6,
   "id": "2862134c-e0a5-4c4e-8827-3d05345d19ff",
   "metadata": {},
   "outputs": [
    {
     "name": "stdout",
     "output_type": "stream",
     "text": [
      "\u001b[1m313/313\u001b[0m \u001b[32m━━━━━━━━━━━━━━━━━━━━\u001b[0m\u001b[37m\u001b[0m \u001b[1m8s\u001b[0m 24ms/step\n",
      "0.8658\n",
      "F1 Score: 0.87\n",
      "Classification Report:\n",
      "              precision    recall  f1-score   support\n",
      "\n",
      "           0       0.86      0.87      0.87      4961\n",
      "           1       0.87      0.86      0.87      5039\n",
      "\n",
      "    accuracy                           0.87     10000\n",
      "   macro avg       0.87      0.87      0.87     10000\n",
      "weighted avg       0.87      0.87      0.87     10000\n",
      "\n"
     ]
    }
   ],
   "source": [
    "prediction = model.predict(X_test)\n",
    "\n",
    "y_pred = [1 if pred > 0.5 else 0 for pred in prediction]\n",
    "\n",
    "acc = accuracy_score(y_test,y_pred)\n",
    "print(acc)\n",
    "\n",
    "f1 = f1_score(y_test, y_pred)\n",
    "print(f'F1 Score: {f1:.2f}')\n",
    "\n",
    "# Отчет по классификации\n",
    "print('Classification Report:')\n",
    "print(classification_report(y_test, y_pred))\n"
   ]
  },
  {
   "cell_type": "code",
   "execution_count": 7,
   "id": "34c0e706-2dfb-44b1-b7be-8ce22e6c2627",
   "metadata": {},
   "outputs": [
    {
     "data": {
      "image/png": "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",
      "text/plain": [
       "<Figure size 1000x500 with 1 Axes>"
      ]
     },
     "metadata": {},
     "output_type": "display_data"
    }
   ],
   "source": [
    "# ROC-AUC\n",
    "fpr, tpr, _ = roc_curve(y_test, prediction)\n",
    "roc_auc = auc(fpr, tpr)\n",
    "\n",
    "plt.figure(figsize=(10, 5))\n",
    "plt.plot(fpr, tpr, color='darkorange', lw=1, label=f'ROC curve (area = {roc_auc:.2f})')\n",
    "plt.plot([0, 1], [0, 1], color='navy', lw=1, linestyle='--')\n",
    "plt.xlim([0.0, 1.0])\n",
    "plt.ylim([0.0, 1.05])\n",
    "plt.xlabel('FPR')\n",
    "plt.ylabel('TPR')\n",
    "plt.title('ROC')\n",
    "plt.legend()\n",
    "plt.show()"
   ]
  },
  {
   "cell_type": "code",
   "execution_count": null,
   "id": "bd824e2d-dec0-4f4a-a4b9-9e387f64d055",
   "metadata": {},
   "outputs": [],
   "source": []
  }
 ],
 "metadata": {
  "kernelspec": {
   "display_name": "Python 3 (ipykernel)",
   "language": "python",
   "name": "python3"
  },
  "language_info": {
   "codemirror_mode": {
    "name": "ipython",
    "version": 3
   },
   "file_extension": ".py",
   "mimetype": "text/x-python",
   "name": "python",
   "nbconvert_exporter": "python",
   "pygments_lexer": "ipython3",
   "version": "3.10.10"
  }
 },
 "nbformat": 4,
 "nbformat_minor": 5
}
